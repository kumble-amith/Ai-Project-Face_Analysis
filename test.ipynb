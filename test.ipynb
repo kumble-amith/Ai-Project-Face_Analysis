{
 "cells": [
  {
   "cell_type": "code",
   "execution_count": 1,
   "metadata": {},
   "outputs": [],
   "source": [
    "import cv2 as cv\n",
    "import tensorflow as tf\n",
    "from tensorflow import keras\n",
    "import numpy as np"
   ]
  },
  {
   "cell_type": "code",
   "execution_count": 19,
   "metadata": {},
   "outputs": [],
   "source": [
    "image = keras.utils.load_img('P1.jpg',grayscale=True,target_size=(1500,1500))"
   ]
  },
  {
   "cell_type": "code",
   "execution_count": 20,
   "metadata": {},
   "outputs": [
    {
     "name": "stdout",
     "output_type": "stream",
     "text": [
      "(1500, 1500)\n"
     ]
    },
    {
     "data": {
      "text/plain": [
       "(1500, 1500)"
      ]
     },
     "execution_count": 20,
     "metadata": {},
     "output_type": "execute_result"
    }
   ],
   "source": [
    "image = np.array(image)\n",
    "print(image.shape)\n",
    "\n",
    "image.shape\n",
    "\n"
   ]
  },
  {
   "cell_type": "code",
   "execution_count": 21,
   "metadata": {},
   "outputs": [
    {
     "data": {
      "text/plain": [
       "-1"
      ]
     },
     "execution_count": 21,
     "metadata": {},
     "output_type": "execute_result"
    }
   ],
   "source": [
    "cv.imshow('Test',image)\n",
    "cv.waitKey(0)"
   ]
  },
  {
   "cell_type": "code",
   "execution_count": 22,
   "metadata": {},
   "outputs": [
    {
     "data": {
      "text/plain": [
       "< cv2.CascadeClassifier 00000225C9ACD690>"
      ]
     },
     "execution_count": 22,
     "metadata": {},
     "output_type": "execute_result"
    }
   ],
   "source": [
    "faces = cv.CascadeClassifier(\n",
    "    cv.data.haarcascades + \"haarcascade_frontalface_default.xml\"\n",
    ")\n",
    "faces"
   ]
  },
  {
   "cell_type": "code",
   "execution_count": 23,
   "metadata": {},
   "outputs": [
    {
     "data": {
      "text/plain": [
       "array([[ 329,  675,   25,   25],\n",
       "       [ 232,  394,   25,   25],\n",
       "       [ 376,  416,   29,   29],\n",
       "       [ 255,  761,   67,   67],\n",
       "       [1072,  665,   62,   62],\n",
       "       [  98,  951,   25,   25],\n",
       "       [1131,  553,  101,  101],\n",
       "       [ 424,  555,   92,   92],\n",
       "       [ 947,  549,  103,  103],\n",
       "       [ 274,  576,  101,  101],\n",
       "       [1221,  376,   57,   57],\n",
       "       [ 795,  508,   94,   94],\n",
       "       [ 633,  531,   90,   90],\n",
       "       [1129,  516,   26,   26],\n",
       "       [ 945,  730,   48,   48],\n",
       "       [ 444,  158,   62,   62],\n",
       "       [ 919,  446,   30,   30],\n",
       "       [ 478,  429,   37,   37],\n",
       "       [ 976,  242,   39,   39],\n",
       "       [ 449,  181,   51,   51],\n",
       "       [ 484,  614,  116,  116],\n",
       "       [ 289,   38,   62,   62],\n",
       "       [ 492,  562,   75,   75],\n",
       "       [ 886,  262,   60,   60]])"
      ]
     },
     "execution_count": 23,
     "metadata": {},
     "output_type": "execute_result"
    }
   ],
   "source": [
    "face = faces.detectMultiScale(image,scaleFactor=1.1,minNeighbors=1,minSize=(1,1))\n",
    "face"
   ]
  },
  {
   "cell_type": "code",
   "execution_count": 24,
   "metadata": {},
   "outputs": [
    {
     "name": "stdout",
     "output_type": "stream",
     "text": [
      "329 675 25 25\n",
      "232 394 25 25\n",
      "376 416 29 29\n",
      "255 761 67 67\n",
      "1072 665 62 62\n",
      "98 951 25 25\n",
      "1131 553 101 101\n",
      "424 555 92 92\n",
      "947 549 103 103\n",
      "274 576 101 101\n",
      "1221 376 57 57\n",
      "795 508 94 94\n",
      "633 531 90 90\n",
      "1129 516 26 26\n",
      "945 730 48 48\n",
      "444 158 62 62\n",
      "919 446 30 30\n",
      "478 429 37 37\n",
      "976 242 39 39\n",
      "449 181 51 51\n",
      "484 614 116 116\n",
      "289 38 62 62\n",
      "492 562 75 75\n",
      "886 262 60 60\n"
     ]
    }
   ],
   "source": [
    "for (x,y,w,h) in face:\n",
    "    print(x,y,w,h)\n",
    "    cv.rectangle(image,(x,y),(x+w,y+h),(255,0,0))"
   ]
  },
  {
   "cell_type": "code",
   "execution_count": 25,
   "metadata": {},
   "outputs": [
    {
     "data": {
      "text/plain": [
       "-1"
      ]
     },
     "execution_count": 25,
     "metadata": {},
     "output_type": "execute_result"
    }
   ],
   "source": [
    "cv.imshow('ClassifiedImage',image)\n",
    "cv.waitKey()"
   ]
  },
  {
   "cell_type": "code",
   "execution_count": 9,
   "metadata": {},
   "outputs": [
    {
     "data": {
      "text/plain": [
       "-1"
      ]
     },
     "execution_count": 9,
     "metadata": {},
     "output_type": "execute_result"
    }
   ],
   "source": [
    "test_img = cv.imread('P5.jpg')\n",
    "cv.imshow('image',test_img)\n",
    "cv.waitKey()"
   ]
  },
  {
   "cell_type": "code",
   "execution_count": 10,
   "metadata": {},
   "outputs": [
    {
     "name": "stdout",
     "output_type": "stream",
     "text": [
      "[[[ 76  92  98]\n",
      "  [ 74  90  96]\n",
      "  [ 69  85  91]\n",
      "  ...\n",
      "  [164 174 162]\n",
      "  [168 178 166]\n",
      "  [139 149 137]]\n",
      "\n",
      " [[ 74  90  96]\n",
      "  [ 70  86  92]\n",
      "  [ 73  89  95]\n",
      "  ...\n",
      "  [114 124 112]\n",
      "  [114 124 112]\n",
      "  [101 111  99]]\n",
      "\n",
      " [[ 79  95 101]\n",
      "  [ 74  90  96]\n",
      "  [ 83 100 103]\n",
      "  ...\n",
      "  [ 88  98  86]\n",
      "  [ 89  99  87]\n",
      "  [ 98 108  96]]\n",
      "\n",
      " ...\n",
      "\n",
      " [[136 198 198]\n",
      "  [138 200 200]\n",
      "  [136 198 198]\n",
      "  ...\n",
      "  [149 217 210]\n",
      "  [154 221 214]\n",
      "  [156 223 216]]\n",
      "\n",
      " [[132 195 193]\n",
      "  [129 192 190]\n",
      "  [121 184 182]\n",
      "  ...\n",
      "  [103 174 164]\n",
      "  [117 186 176]\n",
      "  [117 186 176]]\n",
      "\n",
      " [[138 201 199]\n",
      "  [131 194 192]\n",
      "  [116 179 177]\n",
      "  ...\n",
      "  [ 87 158 148]\n",
      "  [106 175 165]\n",
      "  [101 170 160]]]\n"
     ]
    }
   ],
   "source": [
    "print(test_img)"
   ]
  },
  {
   "cell_type": "code",
   "execution_count": 11,
   "metadata": {},
   "outputs": [],
   "source": [
    "gray_test = cv.cvtColor(test_img,cv.COLOR_BGR2GRAY)"
   ]
  },
  {
   "cell_type": "code",
   "execution_count": 12,
   "metadata": {},
   "outputs": [
    {
     "data": {
      "text/plain": [
       "array([[2398,    2,   53,   53],\n",
       "       [2012,  191,   62,   62],\n",
       "       [2140,  272,  236,  236],\n",
       "       [2680,  270,  242,  242],\n",
       "       [ 387,  314,  220,  220],\n",
       "       [1335,  223,  209,  209],\n",
       "       [2283,  248,  353,  353],\n",
       "       [ 768,  271,  212,  212],\n",
       "       [1763,  169,  230,  230],\n",
       "       [3238,  626,   55,   55],\n",
       "       [ 873,  762,   66,   66],\n",
       "       [1138,  185,   89,   89]])"
      ]
     },
     "execution_count": 12,
     "metadata": {},
     "output_type": "execute_result"
    }
   ],
   "source": [
    "face = faces.detectMultiScale(gray_test)\n",
    "face"
   ]
  },
  {
   "cell_type": "code",
   "execution_count": 13,
   "metadata": {},
   "outputs": [
    {
     "data": {
      "text/plain": [
       "(1366, 3368)"
      ]
     },
     "execution_count": 13,
     "metadata": {},
     "output_type": "execute_result"
    }
   ],
   "source": [
    "gray_test.shape"
   ]
  },
  {
   "cell_type": "code",
   "execution_count": null,
   "metadata": {},
   "outputs": [],
   "source": [
    "print('hello')"
   ]
  },
  {
   "cell_type": "code",
   "execution_count": null,
   "metadata": {},
   "outputs": [],
   "source": []
  }
 ],
 "metadata": {
  "kernelspec": {
   "display_name": "Python 3",
   "language": "python",
   "name": "python3"
  },
  "language_info": {
   "codemirror_mode": {
    "name": "ipython",
    "version": 3
   },
   "file_extension": ".py",
   "mimetype": "text/x-python",
   "name": "python",
   "nbconvert_exporter": "python",
   "pygments_lexer": "ipython3",
   "version": "3.11.3"
  },
  "orig_nbformat": 4
 },
 "nbformat": 4,
 "nbformat_minor": 2
}
