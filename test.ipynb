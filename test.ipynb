{
 "cells": [
  {
   "cell_type": "code",
   "execution_count": 1,
   "metadata": {},
   "outputs": [],
   "source": [
    "import cv2 as cv\n",
    "import tensorflow as tf\n",
    "from tensorflow import keras\n",
    "import numpy as np\n",
    "import os"
   ]
  },
  {
   "cell_type": "code",
   "execution_count": 2,
   "metadata": {},
   "outputs": [],
   "source": [
    "from keras import Sequential\n",
    "from keras.layers import Dense,MaxPool2D,Flatten,Conv2D"
   ]
  },
  {
   "cell_type": "code",
   "execution_count": 3,
   "metadata": {},
   "outputs": [],
   "source": [
    "all_images =  os.listdir('Images')"
   ]
  },
  {
   "cell_type": "code",
   "execution_count": 4,
   "metadata": {},
   "outputs": [],
   "source": [
    "def Generate_Detection_model(count):\n",
    "    detection_model = Sequential()\n",
    "\n",
    "    detection_model.add(Conv2D(32,kernel_size=(3,3),padding='valid',activation='relu',input_shape = (1500,1500)))\n",
    "    detection_model.add(MaxPool2D(pool_size=(2,2),strides=2,padding='valid'))\n",
    "\n",
    "    detection_model.add(Conv2D(64,kernel_size=(3,3),padding='valid',activation='relu'))\n",
    "    detection_model.add(MaxPool2D(pool_size=(2,2),strides=(2,2),padding='valid'))\n",
    "\n",
    "    detection_model.add(Conv2D(64,kernel_size=(3,3),padding='valid',activation='relu'))\n",
    "    detection_model.add(MaxPool2D(pool_size=(2,2),strides=(2,2),padding='valid'))\n",
    "\n",
    "    detection_model.add(Flatten())\n",
    "\n",
    "\n",
    "    detection_model.add(Dense(128,activation='relu'))\n",
    "    detection_model.add(Dense(64,activation='relu'))\n",
    "    detection_model.add(Dense(len(count),activation='softmax'))"
   ]
  },
  {
   "cell_type": "code",
   "execution_count": 5,
   "metadata": {},
   "outputs": [],
   "source": [
    "# def IsDetected(image,detected_image_index,detection_model):\n"
   ]
  },
  {
   "cell_type": "code",
   "execution_count": 6,
   "metadata": {},
   "outputs": [
    {
     "name": "stderr",
     "output_type": "stream",
     "text": [
      "c:\\Python\\Lib\\site-packages\\keras\\src\\utils\\image_utils.py:409: UserWarning: grayscale is deprecated. Please use color_mode = \"grayscale\"\n",
      "  warnings.warn(\n"
     ]
    }
   ],
   "source": [
    "\n",
    "\n",
    "for i in range(len(all_images)):\n",
    "    image = keras.utils.load_img(f'Images/{all_images[i]}',grayscale=True,target_size=(1500,1500))\n",
    "    image = np.array(image)\n",
    "    faces_object = cv.CascadeClassifier(cv.data.haarcascades + \"haarcascade_frontalface_default.xml\")\n",
    "    face = faces_object.detectMultiScale(image,scaleFactor=1.1,minNeighbors=1,minSize=(20,20),maxSize=(150,150))\n",
    "    # print(face)\n",
    "    # for j in range(len(face)):\n",
    "    #     (x,y,w,h) = face[j]\n",
    "    #     crop_img = image[y:y+h, x:x+w]\n",
    "\n",
    "    #     cv.imshow('Cropped',crop_img)\n",
    "    #     cv.waitKey(0)\n",
    "    for (x,y,w,h) in face:\n",
    "        cv.rectangle(image,(x,y),(x+w,y+h),(255,0,0))    \n",
    "    cv.imshow('Cropped',image)\n",
    "    cv.waitKey(0)"
   ]
  },
  {
   "cell_type": "code",
   "execution_count": 7,
   "metadata": {},
   "outputs": [
    {
     "data": {
      "text/plain": [
       "-1"
      ]
     },
     "execution_count": 7,
     "metadata": {},
     "output_type": "execute_result"
    }
   ],
   "source": []
  },
  {
   "cell_type": "code",
   "execution_count": null,
   "metadata": {},
   "outputs": [],
   "source": []
  }
 ],
 "metadata": {
  "kernelspec": {
   "display_name": "Python 3",
   "language": "python",
   "name": "python3"
  },
  "language_info": {
   "codemirror_mode": {
    "name": "ipython",
    "version": 3
   },
   "file_extension": ".py",
   "mimetype": "text/x-python",
   "name": "python",
   "nbconvert_exporter": "python",
   "pygments_lexer": "ipython3",
   "version": "3.11.3"
  },
  "orig_nbformat": 4
 },
 "nbformat": 4,
 "nbformat_minor": 2
}
